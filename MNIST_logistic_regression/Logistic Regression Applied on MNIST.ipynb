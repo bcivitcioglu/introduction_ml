{
 "cells": [
  {
   "cell_type": "markdown",
   "metadata": {},
   "source": [
    "<p>Let us first start by importing the data. We will use the well-known data and we will apply the logistic regression. In this part we will only recognise one digit. Let us choose 1. Now let's start by importing our data and the necessary libraries.</p>"
   ]
  },
  {
   "cell_type": "code",
   "execution_count": 1,
   "metadata": {},
   "outputs": [],
   "source": [
    "from sklearn.datasets import fetch_mldata\n",
    "from sklearn.metrics import classification_report, confusion_matrix\n",
    "import numpy as np\n",
    "import matplotlib.pyplot as plt"
   ]
  },
  {
   "cell_type": "code",
   "execution_count": 2,
   "metadata": {
    "scrolled": false
   },
   "outputs": [
    {
     "name": "stderr",
     "output_type": "stream",
     "text": [
      "/Library/Frameworks/Python.framework/Versions/3.7/lib/python3.7/site-packages/sklearn/utils/deprecation.py:85: DeprecationWarning: Function fetch_mldata is deprecated; fetch_mldata was deprecated in version 0.20 and will be removed in version 0.22. Please use fetch_openml.\n",
      "  warnings.warn(msg, category=DeprecationWarning)\n",
      "/Library/Frameworks/Python.framework/Versions/3.7/lib/python3.7/site-packages/sklearn/utils/deprecation.py:85: DeprecationWarning: Function mldata_filename is deprecated; mldata_filename was deprecated in version 0.20 and will be removed in version 0.22. Please use fetch_openml.\n",
      "  warnings.warn(msg, category=DeprecationWarning)\n"
     ]
    }
   ],
   "source": [
    "mnist = fetch_mldata('MNIST original')\n",
    "X, y = mnist[\"data\"], mnist[\"target\"]"
   ]
  },
  {
   "cell_type": "markdown",
   "metadata": {},
   "source": [
    "<p>We normalize so that we only deal with numbers in the $(0,1)$ range</p>"
   ]
  },
  {
   "cell_type": "code",
   "execution_count": 3,
   "metadata": {},
   "outputs": [],
   "source": [
    "X = X / 255"
   ]
  },
  {
   "cell_type": "markdown",
   "metadata": {},
   "source": [
    "<p>Now as we are only considering whether an image is 9 or not, we will modify our labels. We are putting 1 if it is number 9, and 0 otherwise.</p>"
   ]
  },
  {
   "cell_type": "code",
   "execution_count": 4,
   "metadata": {},
   "outputs": [],
   "source": [
    "y = np.where(y!=9,0,1)"
   ]
  },
  {
   "cell_type": "markdown",
   "metadata": {},
   "source": [
    "<p>We define the number of training data and the test data.</p>"
   ]
  },
  {
   "cell_type": "code",
   "execution_count": 5,
   "metadata": {},
   "outputs": [],
   "source": [
    "m_train = 65000\n",
    "m_test = 5000"
   ]
  },
  {
   "cell_type": "markdown",
   "metadata": {},
   "source": [
    "<p>We then divide our data accordingly. But there is one problem here. Since our data is arranged, meaning that the images containes 0's images for a few thousand, and then 1 etc. Therefore if we don't shuffle, then our test data will consist of only 9 images and we will not be training for 9 images enough. Therefore before we go any further, we need to make sure that we shuffle the data. We need to be careful as the indexing is really important here.</p>"
   ]
  },
  {
   "cell_type": "code",
   "execution_count": 6,
   "metadata": {},
   "outputs": [],
   "source": [
    "train = X[0:m_train].T # We prefer column vectors that is why we take the transpose\n",
    "test = X[m_train:].T\n",
    "\n",
    "train_labels = y[0:m_train].reshape(1,m_train)\n",
    "test_labels = y[m_train:].reshape(1,m_test)"
   ]
  },
  {
   "cell_type": "code",
   "execution_count": 7,
   "metadata": {},
   "outputs": [],
   "source": [
    "rand = np.random.permutation(m_train)\n",
    "train, train_labels = train[:,rand], train_labels[:,rand]"
   ]
  },
  {
   "cell_type": "markdown",
   "metadata": {},
   "source": [
    "<p>Now we can see below that the data is indeed shuffled properly and the digit 9 has the label 1.</p>"
   ]
  },
  {
   "cell_type": "code",
   "execution_count": 22,
   "metadata": {},
   "outputs": [
    {
     "name": "stdout",
     "output_type": "stream",
     "text": [
      "[1]\n"
     ]
    },
    {
     "data": {
      "image/png": "[encoded data removed]",
      "text/plain": [
       "<Figure size 432x288 with 1 Axes>"
      ]
     },
     "metadata": {
      "needs_background": "light"
     },
     "output_type": "display_data"
    }
   ],
   "source": [
    "plt.imshow(train[:,8].reshape(28,28))\n",
    "print(train_labels[:,8])"
   ]
  },
  {
   "cell_type": "markdown",
   "metadata": {},
   "source": [
    "<p>Now we can use directly the code that I have added in my repository for logistic regression. For clarification I will add the code in this notebook too.</p>"
   ]
  },
  {
   "cell_type": "markdown",
   "metadata": {},
   "source": [
    "<p>Here we have the activation function as sigmoid</p>"
   ]
  },
  {
   "cell_type": "code",
   "execution_count": 9,
   "metadata": {},
   "outputs": [],
   "source": [
    "def sigmoid(x):\n",
    "    return 1 / (1 + np.exp(-x))"
   ]
  },
  {
   "cell_type": "markdown",
   "metadata": {},
   "source": [
    "<p>We have the cost function as follows.</p>"
   ]
  },
  {
   "cell_type": "code",
   "execution_count": 10,
   "metadata": {},
   "outputs": [],
   "source": [
    "def cost_function(y, y_hat,m):\n",
    "    J = -(1./m) * (np.sum(np.multiply(np.log(y_hat),y)) + np.sum(np.multiply(np.log(1-y_hat),(1-y))))\n",
    "    return J"
   ]
  },
  {
   "cell_type": "markdown",
   "metadata": {},
   "source": [
    "<p>We use the chain rule of calculus to calculate the algebraic expression for the derivative of the cost function.  $$ \\frac{\\partial J}{\\partial \\theta} = \\frac{\\partial J}{\\partial a} \\frac{\\partial a}{\\partial z} \\frac{\\partial z}{\\partial \\theta}$$</p>"
   ]
  },
  {
   "cell_type": "code",
   "execution_count": 11,
   "metadata": {},
   "outputs": [
    {
     "name": "stdout",
     "output_type": "stream",
     "text": [
      "Epoch:  0 cost:  0.6987315047816619\n",
      "Epoch:  200 cost:  0.10861957057737524\n",
      "Epoch:  400 cost:  0.10224845226504042\n",
      "Epoch:  600 cost:  0.09938965598632893\n",
      "Epoch:  800 cost:  0.09772889961586252\n",
      "Final cost: 0.09663720795832573\n"
     ]
    }
   ],
   "source": [
    "alpha = 1 # parameter of the gradient descent, sometimes known as \"learning parameter\"\n",
    "\n",
    "theta = np.random.randn(train.shape[0], 1) * 0.01\n",
    "bias = np.zeros((1,1))\n",
    "\n",
    "for i in range(1000):\n",
    "    \n",
    "    # Forward feed\n",
    "    z = np.matmul(theta.T, train) + bias\n",
    "    a = sigmoid(z)\n",
    "    \n",
    "    # Now we can compute the cost\n",
    "    J = cost_function(train_labels,a,m_train)\n",
    "    \n",
    "    # With the idea of backpropagation, we compute the derivatives\n",
    "    d_theta = (1/m_train) * np.matmul(train,(a-train_labels).T)\n",
    "    d_bias = (1/m_train) * np.sum(a-train_labels, axis=1, keepdims=True)\n",
    "    \n",
    "    # We directly do the gradient descent \n",
    "    theta = theta - alpha * d_theta\n",
    "    bias = bias - alpha * d_bias\n",
    "\n",
    "    if (i % 200 == 0):\n",
    "        print(\"Epoch: \", i, \"cost: \", J)\n",
    "\n",
    "print(\"Final cost:\", J)"
   ]
  },
  {
   "cell_type": "markdown",
   "metadata": {},
   "source": [
    "<p>Now with these values of $\\theta$ and the bias, we apply one more forward propagation to have the outputs.</p>"
   ]
  },
  {
   "cell_type": "code",
   "execution_count": 12,
   "metadata": {
    "scrolled": true
   },
   "outputs": [
    {
     "name": "stdout",
     "output_type": "stream",
     "text": [
      "[[3919  228]\n",
      " [  72  781]]\n"
     ]
    }
   ],
   "source": [
    "z = np.matmul(theta.T, test) + bias\n",
    "a = sigmoid(z)\n",
    "\n",
    "predictions = (a>0.5)[0,:]\n",
    "labels = (test_labels == 1)[0,:]\n",
    "\n",
    "print(confusion_matrix(predictions, labels))"
   ]
  },
  {
   "cell_type": "markdown",
   "metadata": {},
   "source": [
    "<p>We can see that we have been correct most of the time. Let us use sklearn utilities one more time for a better result analysis.</p>"
   ]
  },
  {
   "cell_type": "code",
   "execution_count": 13,
   "metadata": {
    "scrolled": true
   },
   "outputs": [
    {
     "name": "stdout",
     "output_type": "stream",
     "text": [
      "              precision    recall  f1-score   support\n",
      "\n",
      "       False       0.98      0.95      0.96      4147\n",
      "        True       0.77      0.92      0.84       853\n",
      "\n",
      "    accuracy                           0.94      5000\n",
      "   macro avg       0.88      0.93      0.90      5000\n",
      "weighted avg       0.95      0.94      0.94      5000\n",
      "\n"
     ]
    }
   ],
   "source": [
    "print(classification_report(predictions, labels))"
   ]
  },
  {
   "cell_type": "markdown",
   "metadata": {},
   "source": [
    "<p>This is a working model that will recognise only one digit with using one neuron i.e. logistic regression.</p>"
   ]
  }
 ],
 "metadata": {
  "kernelspec": {
   "display_name": "Python 3",
   "language": "python",
   "name": "python3"
  },
  "language_info": {
   "codemirror_mode": {
    "name": "ipython",
    "version": 3
   },
   "file_extension": ".py",
   "mimetype": "text/x-python",
   "name": "python",
   "nbconvert_exporter": "python",
   "pygments_lexer": "ipython3",
   "version": "3.7.4"
  }
 },
 "nbformat": 4,
 "nbformat_minor": 2
}
