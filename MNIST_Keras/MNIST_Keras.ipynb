{
 "cells": [
  {
   "cell_type": "markdown",
   "metadata": {},
   "source": [
    "<h1>MNIST dataset trained using Keras</h1>\n",
    "<p>Let us start with importing the libraries we will use. We import mnist, numpy, and we import models and layers for our neural network. We import to.categorical method to convert our labels into unit vectors for our training.</p>"
   ]
  },
  {
   "cell_type": "code",
   "execution_count": 1,
   "metadata": {},
   "outputs": [
    {
     "name": "stderr",
     "output_type": "stream",
     "text": [
      "Using TensorFlow backend.\n"
     ]
    }
   ],
   "source": [
    "from tensorflow.keras.datasets import mnist\n",
    "import numpy as np\n",
    "from keras import models \n",
    "from keras import layers\n",
    "from keras.utils import to_categorical \n",
    "import matplotlib.pyplot as plt"
   ]
  },
  {
   "cell_type": "markdown",
   "metadata": {},
   "source": [
    "<p>We load the data.</p>"
   ]
  },
  {
   "cell_type": "code",
   "execution_count": 2,
   "metadata": {
    "scrolled": true
   },
   "outputs": [
    {
     "name": "stdout",
     "output_type": "stream",
     "text": [
      "(60000, 28, 28)\n"
     ]
    }
   ],
   "source": [
    "(train_images, train_labels), (test_images, test_labels) = mnist.load_data()\n",
    "print(train_images.shape)"
   ]
  },
  {
   "cell_type": "markdown",
   "metadata": {},
   "source": [
    "<p>We create our model and add the layers. We will have 512 nodes in the hidden layer.</p>"
   ]
  },
  {
   "cell_type": "code",
   "execution_count": 3,
   "metadata": {},
   "outputs": [],
   "source": [
    "model = models.Sequential() # Saying that the model is a sequential model\n",
    "model.add(layers.Dense(512, activation='relu', input_shape=(28 * 28,))) # input shape is the image pixel number\n",
    "model.add(layers.Dense(10, activation='softmax')) # first entry is the number of nodes, digits"
   ]
  },
  {
   "cell_type": "markdown",
   "metadata": {},
   "source": [
    "<p>We specify the optimizer and the loss function and the metrics we will need.</p>"
   ]
  },
  {
   "cell_type": "code",
   "execution_count": null,
   "metadata": {},
   "outputs": [],
   "source": [
    "model.compile(optimizer='rmsprop', \n",
    "    loss='categorical_crossentropy', \n",
    "    metrics=['accuracy'])"
   ]
  },
  {
   "cell_type": "markdown",
   "metadata": {},
   "source": [
    "<p>Now we reshape our data so that each image becomes a column in the input matrix.</p>"
   ]
  },
  {
   "cell_type": "code",
   "execution_count": 5,
   "metadata": {},
   "outputs": [],
   "source": [
    "train_images = train_images.reshape((60000, 28 * 28)) \n",
    "train_images = train_images.astype('float32') / 255"
   ]
  },
  {
   "cell_type": "code",
   "execution_count": 6,
   "metadata": {},
   "outputs": [],
   "source": [
    "test_images = test_images.reshape((10000, 28 * 28)) \n",
    "test_images = test_images.astype('float32') / 255"
   ]
  },
  {
   "cell_type": "code",
   "execution_count": 7,
   "metadata": {},
   "outputs": [],
   "source": [
    "train_labels = to_categorical(train_labels) \n",
    "test_labels = to_categorical(test_labels)"
   ]
  },
  {
   "cell_type": "markdown",
   "metadata": {},
   "source": [
    "<p>Now we train the data for 25 epochs.</p>"
   ]
  },
  {
   "cell_type": "code",
   "execution_count": 8,
   "metadata": {},
   "outputs": [
    {
     "name": "stdout",
     "output_type": "stream",
     "text": [
      "Epoch 1/25\n",
      "60000/60000 [==============================] - 2s 31us/step - loss: 0.2576 - accuracy: 0.9246\n",
      "Epoch 2/25\n",
      "60000/60000 [==============================] - 2s 29us/step - loss: 0.1051 - accuracy: 0.9682\n",
      "Epoch 3/25\n",
      "60000/60000 [==============================] - 2s 29us/step - loss: 0.0689 - accuracy: 0.9792\n",
      "Epoch 4/25\n",
      "60000/60000 [==============================] - 2s 31us/step - loss: 0.0502 - accuracy: 0.9850\n",
      "Epoch 5/25\n",
      "60000/60000 [==============================] - 2s 33us/step - loss: 0.0377 - accuracy: 0.9887\n",
      "Epoch 6/25\n",
      "60000/60000 [==============================] - 2s 33us/step - loss: 0.0289 - accuracy: 0.9912\n",
      "Epoch 7/25\n",
      "60000/60000 [==============================] - 2s 33us/step - loss: 0.0224 - accuracy: 0.9936\n",
      "Epoch 8/25\n",
      "60000/60000 [==============================] - 2s 33us/step - loss: 0.0170 - accuracy: 0.9951\n",
      "Epoch 9/25\n",
      "60000/60000 [==============================] - 2s 32us/step - loss: 0.0133 - accuracy: 0.9961\n",
      "Epoch 10/25\n",
      "60000/60000 [==============================] - 2s 32us/step - loss: 0.0099 - accuracy: 0.9974\n",
      "Epoch 11/25\n",
      "60000/60000 [==============================] - 2s 32us/step - loss: 0.0077 - accuracy: 0.9977\n",
      "Epoch 12/25\n",
      "60000/60000 [==============================] - 2s 33us/step - loss: 0.0055 - accuracy: 0.9985\n",
      "Epoch 13/25\n",
      "60000/60000 [==============================] - 2s 33us/step - loss: 0.0044 - accuracy: 0.9988\n",
      "Epoch 14/25\n",
      "60000/60000 [==============================] - 2s 32us/step - loss: 0.0035 - accuracy: 0.9990\n",
      "Epoch 15/25\n",
      "60000/60000 [==============================] - 2s 32us/step - loss: 0.0025 - accuracy: 0.9994\n",
      "Epoch 16/25\n",
      "60000/60000 [==============================] - 2s 33us/step - loss: 0.0021 - accuracy: 0.9994\n",
      "Epoch 17/25\n",
      "60000/60000 [==============================] - 2s 33us/step - loss: 0.0016 - accuracy: 0.9996\n",
      "Epoch 18/25\n",
      "60000/60000 [==============================] - 2s 32us/step - loss: 0.0012 - accuracy: 0.9997\n",
      "Epoch 19/25\n",
      "60000/60000 [==============================] - 2s 32us/step - loss: 0.0011 - accuracy: 0.9997\n",
      "Epoch 20/25\n",
      "60000/60000 [==============================] - 2s 34us/step - loss: 8.3236e-04 - accuracy: 0.9998\n",
      "Epoch 21/25\n",
      "60000/60000 [==============================] - 2s 34us/step - loss: 6.3386e-04 - accuracy: 0.9998\n",
      "Epoch 22/25\n",
      "60000/60000 [==============================] - 2s 33us/step - loss: 5.3111e-04 - accuracy: 0.9998\n",
      "Epoch 23/25\n",
      "60000/60000 [==============================] - 2s 32us/step - loss: 4.8867e-04 - accuracy: 0.9998\n",
      "Epoch 24/25\n",
      "60000/60000 [==============================] - 2s 33us/step - loss: 2.9667e-04 - accuracy: 0.9999\n",
      "Epoch 25/25\n",
      "60000/60000 [==============================] - 2s 34us/step - loss: 2.5540e-04 - accuracy: 1.0000\n"
     ]
    }
   ],
   "source": [
    "train = model.fit(train_images, train_labels, epochs=25, batch_size=128)"
   ]
  },
  {
   "cell_type": "markdown",
   "metadata": {},
   "source": [
    "<p>We can check the training history, meaning that we check the loss and accuracy of each step. But frankly for our practical purposes, the training is done and now we can use the test data to test the neural network.</p>"
   ]
  },
  {
   "cell_type": "code",
   "execution_count": 13,
   "metadata": {
    "scrolled": true
   },
   "outputs": [
    {
     "data": {
      "text/plain": [
       "dict_keys(['loss', 'accuracy'])"
      ]
     },
     "execution_count": 13,
     "metadata": {},
     "output_type": "execute_result"
    }
   ],
   "source": [
    "train.history.keys()"
   ]
  },
  {
   "cell_type": "code",
   "execution_count": 14,
   "metadata": {},
   "outputs": [
    {
     "name": "stdout",
     "output_type": "stream",
     "text": [
      "10000/10000 [==============================] - 0s 31us/step\n"
     ]
    }
   ],
   "source": [
    "test_loss, test_acc = model.evaluate(test_images,test_labels)"
   ]
  },
  {
   "cell_type": "markdown",
   "metadata": {},
   "source": [
    "<p>Let us see how well our network did in the test data.</p>"
   ]
  },
  {
   "cell_type": "code",
   "execution_count": 18,
   "metadata": {},
   "outputs": [
    {
     "name": "stdout",
     "output_type": "stream",
     "text": [
      "0.9825999736785889\n"
     ]
    }
   ],
   "source": [
    "print(test_acc)"
   ]
  },
  {
   "cell_type": "markdown",
   "metadata": {},
   "source": [
    "<p>We can see that we have simpyle 98% success with this network.</p>"
   ]
  }
 ],
 "metadata": {
  "kernelspec": {
   "display_name": "Python 3",
   "language": "python",
   "name": "python3"
  },
  "language_info": {
   "codemirror_mode": {
    "name": "ipython",
    "version": 3
   },
   "file_extension": ".py",
   "mimetype": "text/x-python",
   "name": "python",
   "nbconvert_exporter": "python",
   "pygments_lexer": "ipython3",
   "version": "3.7.4"
  }
 },
 "nbformat": 4,
 "nbformat_minor": 2
}
