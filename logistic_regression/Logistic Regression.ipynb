{
 "cells": [
  {
   "cell_type": "code",
   "execution_count": 179,
   "metadata": {},
   "outputs": [
    {
     "data": {
      "text/plain": [
       "[<matplotlib.lines.Line2D at 0x12e589c50>]"
      ]
     },
     "execution_count": 179,
     "metadata": {},
     "output_type": "execute_result"
    },
    {
     "data": {
      "image/png": "[encoded data removed]",
      "text/plain": [
       "<Figure size 432x288 with 1 Axes>"
      ]
     },
     "metadata": {
      "needs_background": "light"
     },
     "output_type": "display_data"
    }
   ],
   "source": [
    "import numpy as np\n",
    "import matplotlib.pyplot as plt\n",
    "import pandas as pd\n",
    "\n",
    "def sigmoid(x):\n",
    "    return 1/(1+np.exp(-x))\n",
    "x = np.arange(-10,10,0.1)\n",
    "plt.plot(x,sigmoid(x))\n"
   ]
  },
  {
   "cell_type": "markdown",
   "metadata": {},
   "source": [
    "<p>The logistic regression is used to make classicfication. In this post, we will be investigating the two-level case meaning that we will have only two possible outputs: 0 or 1. For a discrete set of target we have\n",
    "    $$y \\in \\{0,1\\}$$\n",
    "In real life examples, this could mean many things. For example: having the size of the tumors as a feature, we may decide if the tumor is benign or not. Then our target is two-level: benign, or not.</p>\n",
    "<p>We want the hypothesis to be in the interval,\n",
    "    $$ 0 \\leq h(x) \\leq 1$$ The following convention, although it is not used commonly as a first choice today, is the definition of an hypothesis, as a sigmoid function.\n",
    "    $$ h(x) = \\sigma(\\theta^T x), \\sigma(x) = \\frac{1}{1+e^{-x}}$$\n",
    "In this formalism, we will have the hypothesis function interpreted as the estimated probability that y=1 on feature x. \n",
    "    $$h(x) = P(y=1|x;\\theta)$$ </p>\n",
    "<p class=\"title is-4\">Decision Boundary</p>\n",
    "<p>According to the above definition, we will predict y=1 whenever \n",
    "    $$h(x)\\geq 0.5$$ But substituting for sigmoid function in the hypothesis, we then get\n",
    "    $$ y=1 \\rightarrow \\theta^T x \\geq 0$$ Similarly,\n",
    "    $$ y=0 \\rightarrow \\theta^T x \\leq 0$$ Note that at zero we don't have a prediction. Then by finding these relations, we can plot the decision boundary. It can be a line, or a non-linear shape. For instance for a polynomial set of features, we will get a polynomial inequality relation therefore a non-linear decision boundary such as an elipse or a circle.</p>\n",
    "<p class=\"title is-4\">Cost Function</p>\n",
    "<p>The training set will be\n",
    "    $$T = \\{(x^{(1)},y^{(1)}),(x^{(2)},y^{(2)}),\\dots, (x^{(m)},y^{(m)})\\}$$ The size of the training set is m. We similarly define \n",
    "    $$x = \\begin{bmatrix} \n",
    "                    1  \\\\\n",
    "                    x_1 \\\\\n",
    "                    x_2 \\\\\n",
    "                    \\dots \\\\\n",
    "                    x_n\n",
    "                    \\end{bmatrix}, \\theta = \\begin{bmatrix} \n",
    "                    \\theta_0  \\\\\n",
    "                    \\theta_1 \\\\\n",
    "                    \\theta_2 \\\\\n",
    "                    \\dots \\\\\n",
    "                    \\theta_n\n",
    "                    \\end{bmatrix}, y=\\{0,1\\}$$ and we also have \n",
    "    $$ h(x) = \\sigma(\\theta^T x)$$ Now we will use the conventional cost function, note that there may be found other suitable cost functions. We will have \n",
    "    $$ J(\\theta) = \\frac{1}{m} \\sum_{i=1}^{m} error(h(x^{(i)}),y^{(i)})$$ with the error function\n",
    "    $$ error(h(x),y) = -yln(h(x))-(1-y)ln(1-h(x))$$ Notice that this is in fact the entropy of a discrete two-level system found by using the micro-canonical partition function in statistical physics.</p>\n",
    "<p>The same procedure of gradient descent algorithm will be used here. Yet as it is a little too tedious to take the derivative, instead of confusing the reader, I will give the derivative:\n",
    "    $$ \\theta_j := \\theta_j - \\frac{\\alpha}{m}\\sum_{i=1}^{m}(h(x^{(i)})-y^{(i)})x_j^{(i)}$$ and we repeat this until convergence. Note that as it may seem exactly similar to the gradient descent procedure of multi-feature linear regression, it is not the same at all as the hypothesis function is different. </p>\n",
    "<p class=\"title is-4\">Remark</p>\n",
    "<p>If we have a problem of overfitting, we can reduce the number of features or we can use regularization, which is the next topic.</p>"
   ]
  },
  {
   "cell_type": "code",
   "execution_count": 180,
   "metadata": {},
   "outputs": [
    {
     "data": {
      "text/html": [
       "<div>\n",
       "<style scoped>\n",
       "    .dataframe tbody tr th:only-of-type {\n",
       "        vertical-align: middle;\n",
       "    }\n",
       "\n",
       "    .dataframe tbody tr th {\n",
       "        vertical-align: top;\n",
       "    }\n",
       "\n",
       "    .dataframe thead th {\n",
       "        text-align: right;\n",
       "    }\n",
       "</style>\n",
       "<table border=\"1\" class=\"dataframe\">\n",
       "  <thead>\n",
       "    <tr style=\"text-align: right;\">\n",
       "      <th></th>\n",
       "      <th>x1</th>\n",
       "      <th>x2</th>\n",
       "      <th>y</th>\n",
       "    </tr>\n",
       "  </thead>\n",
       "  <tbody>\n",
       "    <tr>\n",
       "      <th>0</th>\n",
       "      <td>34.623660</td>\n",
       "      <td>78.024693</td>\n",
       "      <td>0</td>\n",
       "    </tr>\n",
       "    <tr>\n",
       "      <th>1</th>\n",
       "      <td>30.286711</td>\n",
       "      <td>43.894998</td>\n",
       "      <td>0</td>\n",
       "    </tr>\n",
       "    <tr>\n",
       "      <th>2</th>\n",
       "      <td>35.847409</td>\n",
       "      <td>72.902198</td>\n",
       "      <td>0</td>\n",
       "    </tr>\n",
       "    <tr>\n",
       "      <th>3</th>\n",
       "      <td>60.182599</td>\n",
       "      <td>86.308552</td>\n",
       "      <td>1</td>\n",
       "    </tr>\n",
       "    <tr>\n",
       "      <th>4</th>\n",
       "      <td>79.032736</td>\n",
       "      <td>75.344376</td>\n",
       "      <td>1</td>\n",
       "    </tr>\n",
       "  </tbody>\n",
       "</table>\n",
       "</div>"
      ],
      "text/plain": [
       "          x1         x2  y\n",
       "0  34.623660  78.024693  0\n",
       "1  30.286711  43.894998  0\n",
       "2  35.847409  72.902198  0\n",
       "3  60.182599  86.308552  1\n",
       "4  79.032736  75.344376  1"
      ]
     },
     "execution_count": 180,
     "metadata": {},
     "output_type": "execute_result"
    }
   ],
   "source": [
    "data = pd.read_csv(\"logistic_regression.txt\")\n",
    "data.head()"
   ]
  },
  {
   "cell_type": "code",
   "execution_count": 181,
   "metadata": {},
   "outputs": [
    {
     "data": {
      "image/png": "[encoded data removed]",
      "text/plain": [
       "<Figure size 432x288 with 1 Axes>"
      ]
     },
     "metadata": {
      "needs_background": "light"
     },
     "output_type": "display_data"
    }
   ],
   "source": [
    "import matplotlib.patches as mpatches\n",
    "\n",
    "x1 = data.iloc[:,0] \n",
    "x2 = data.iloc[:,1] \n",
    "y = data.iloc[:,2] \n",
    "\n",
    "x1 = x1[:,np.newaxis]\n",
    "x2 = x2[:,np.newaxis]\n",
    "y = y[:,np.newaxis]\n",
    "\n",
    "\n",
    "X = np.column_stack((np.ones(x1.size),x1,x2))\n",
    "\n",
    "index = np.zeros(y.size)\n",
    "nindex = np.zeros(y.size)\n",
    "\n",
    "for i in np.arange(y.size):\n",
    "    if y[i]==1:\n",
    "        index[i]= i\n",
    "    else:\n",
    "        nindex[i]=i\n",
    "        \n",
    "index = index[index != 0]\n",
    "nindex = nindex[nindex != 0]\n",
    "\n",
    "index = index[:,np.newaxis]\n",
    "nindex = nindex[:,np.newaxis]\n",
    "\n",
    "index = index.astype(int)\n",
    "nindex = nindex.astype(int)\n",
    "\n",
    "pos_x1 = np.take(x1,index)\n",
    "pos_x2 = np.take(x2,index)\n",
    "\n",
    "neg_x1 = np.take(x1,nindex)\n",
    "neg_x2 = np.take(x2,nindex)\n",
    "\n",
    "colors = (\"red\", \"green\")\n",
    "groups = (\"Positive\", \"Negative\")\n",
    "\n",
    "fig = plt.figure()\n",
    "plt.scatter(pos_x1, pos_x2)\n",
    "plt.scatter(neg_x1,neg_x2)\n",
    "plt.xlabel('x1')\n",
    "plt.ylabel(\"x2\")\n",
    "plt.savefig(\"image_logistic_data.png\")"
   ]
  },
  {
   "cell_type": "code",
   "execution_count": 182,
   "metadata": {},
   "outputs": [],
   "source": [
    "def sigmoid(x):\n",
    "    return 1/(1+np.exp(-x))\n",
    "\n",
    "def h(theta,X):\n",
    "    return sigmoid(np.matmul(X,theta))\n",
    "\n",
    "# h(x) = theta_0 + theta_1*x_1 + theta_2*x_2> 0\n",
    "\n",
    "# theta -> 3x1\n",
    "# X -> 100x3\n",
    "# y -> 100x1\n",
    "# X*theta is allowed\n",
    "\n",
    "theta = np.array([-25,0.2,0.2])\n",
    "theta = theta[:,np.newaxis]\n",
    "m = x1.size\n",
    "\n",
    "\n",
    "def gradient_descent(theta,X,y,alpha):\n",
    "    for i in np.arange(10000):\n",
    "        Xthe = np.matmul(X,theta)\n",
    "        temp = theta - (alpha/m)*np.matmul(X.T,(Xthe-y))\n",
    "        theta = temp \n",
    "        #print(theta)\n",
    "    return theta\n"
   ]
  },
  {
   "cell_type": "code",
   "execution_count": 183,
   "metadata": {
    "scrolled": false
   },
   "outputs": [
    {
     "data": {
      "text/plain": [
       "array([[-24.10297917],\n",
       "       [  0.17291136],\n",
       "       [  0.1883413 ]])"
      ]
     },
     "execution_count": 183,
     "metadata": {},
     "output_type": "execute_result"
    }
   ],
   "source": [
    "gradient_descent(theta,X,y,0.0001)"
   ]
  },
  {
   "cell_type": "markdown",
   "metadata": {},
   "source": [
    "<p>So this means that we have \n",
    "    $$ h(x) = \\theta_0 + \\theta_1 x_1 + \\theta_2 x_2 = 0$$\n",
    "        $$ x_2 = -\\frac{\\theta_0 + \\theta_1 x_1}{\\theta_2}$$ and this is a line. If we draw this line we can see the decision boundary of our problem. </p>"
   ]
  },
  {
   "cell_type": "code",
   "execution_count": 185,
   "metadata": {},
   "outputs": [
    {
     "data": {
      "image/png": "[encoded data removed]",
      "text/plain": [
       "<Figure size 432x288 with 1 Axes>"
      ]
     },
     "metadata": {
      "needs_background": "light"
     },
     "output_type": "display_data"
    }
   ],
   "source": [
    "def dec_boun(theta,x_1):\n",
    "    return -(theta[0]+theta[1]*x_1)/(theta[2])\n",
    "\n",
    "fig = plt.figure()\n",
    "plt.scatter(pos_x1, pos_x2)\n",
    "plt.scatter(neg_x1,neg_x2)\n",
    "plt.plot(x1,dec_boun(theta,x1),color=\"red\")\n",
    "plt.xlabel('x1')\n",
    "plt.ylabel(\"x2\")\n",
    "plt.savefig(\"image_decision_boundary.png\")"
   ]
  },
  {
   "cell_type": "markdown",
   "metadata": {},
   "source": [
    "<p>This is the decision boundary. </p>"
   ]
  }
 ],
 "metadata": {
  "kernelspec": {
   "display_name": "Python 3",
   "language": "python",
   "name": "python3"
  },
  "language_info": {
   "codemirror_mode": {
    "name": "ipython",
    "version": 3
   },
   "file_extension": ".py",
   "mimetype": "text/x-python",
   "name": "python",
   "nbconvert_exporter": "python",
   "pygments_lexer": "ipython3",
   "version": "3.7.4"
  }
 },
 "nbformat": 4,
 "nbformat_minor": 2
}
